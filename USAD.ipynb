{
  "cells": [
    {
      "cell_type": "markdown",
      "metadata": {
        "id": "etniX_KTlJ5U"
      },
      "source": [
        "# USAD"
      ]
    },
    {
      "cell_type": "markdown",
      "metadata": {
        "id": "N3jM0qLU8MgZ"
      },
      "source": [
        "## Environment"
      ]
    },
    {
      "cell_type": "code",
      "execution_count": 1,
      "metadata": {
        "colab": {
          "base_uri": "https://localhost:8080/"
        },
        "id": "rjheCL2b1Rnw",
        "outputId": "c0cb5ad9-46d5-4442-b9a9-8e7e6f5a3698"
      },
      "outputs": [
        {
          "output_type": "stream",
          "name": "stdout",
          "text": [
            "Cloning into 'usad'...\n",
            "remote: Enumerating objects: 99, done.\u001b[K\n",
            "remote: Counting objects: 100% (38/38), done.\u001b[K\n",
            "remote: Compressing objects: 100% (10/10), done.\u001b[K\n",
            "remote: Total 99 (delta 31), reused 28 (delta 28), pack-reused 61\u001b[K\n",
            "Receiving objects: 100% (99/99), 2.81 MiB | 2.87 MiB/s, done.\n",
            "Resolving deltas: 100% (47/47), done.\n",
            "/content/usad\n",
            "input/CPU_Usage-NORMAL.csv\n",
            "[==================================================] 11.27MB/11.27MB\n",
            "input/CPU_Usage-OVERALL_ATTACK.csv\n",
            "[==================================================] 1.25MB/1.25MB\n"
          ]
        }
      ],
      "source": [
        "import os\n",
        "\n",
        "if os.path.basename(os.getcwd()) != 'usad':\n",
        "    !rm -r sample_data\n",
        "    !git clone https://github.com/manigalati/usad\n",
        "    %cd usad\n",
        "    !mkdir input\n",
        "    #normal period\n",
        "    !python gdrivedl.py https://drive.google.com/file/d/1bkLmu3gf0bCFL6UESqrFX70A9VifJfdw/view?usp=sharing input/\n",
        "    #anomalies\n",
        "    !python gdrivedl.py https://drive.google.com/file/d/1c3ZrrpLn9HxP-mlkxiSxlHEYLnA-0hph/view?usp=sharing input/"
      ]
    },
    {
      "cell_type": "code",
      "execution_count": 2,
      "metadata": {
        "id": "6u1DGKsAlLF-"
      },
      "outputs": [],
      "source": [
        "import numpy as np\n",
        "import pandas as pd\n",
        "import matplotlib.pyplot as plt\n",
        "import seaborn as sns\n",
        "import torch\n",
        "import torch.nn as nn\n",
        "\n",
        "from utils import *\n",
        "from usad import *"
      ]
    },
    {
      "cell_type": "code",
      "execution_count": 3,
      "metadata": {
        "colab": {
          "base_uri": "https://localhost:8080/"
        },
        "id": "4AzWlDBI_djV",
        "outputId": "5032529e-8c88-4e1f-f076-c817688cb932"
      },
      "outputs": [
        {
          "output_type": "stream",
          "name": "stdout",
          "text": [
            "GPU 0: Tesla V100-SXM2-16GB (UUID: GPU-05052d24-290e-7f14-b6cc-a5dc1614abb4)\n"
          ]
        }
      ],
      "source": [
        "!nvidia-smi -L\n",
        "\n",
        "device = get_default_device()"
      ]
    },
    {
      "cell_type": "markdown",
      "metadata": {
        "id": "1crx5rGP9ONf"
      },
      "source": [
        "## EDA - Data Pre-Processing"
      ]
    },
    {
      "cell_type": "markdown",
      "metadata": {
        "id": "kfSj4FYL9W8Y"
      },
      "source": [
        "### Normal period"
      ]
    },
    {
      "cell_type": "code",
      "execution_count": 4,
      "metadata": {
        "colab": {
          "base_uri": "https://localhost:8080/"
        },
        "id": "XeDLxV_r1G9n",
        "outputId": "3b48d778-faeb-424b-a31e-feffc8401948"
      },
      "outputs": [
        {
          "output_type": "execute_result",
          "data": {
            "text/plain": [
              "(52560, 10)"
            ]
          },
          "metadata": {},
          "execution_count": 4
        }
      ],
      "source": [
        "#Read data\n",
        "normal = pd.read_csv(\"input/CPU_Usage-NORMAL.csv\")\n",
        "normal = normal.drop([\"timestamp\", \"label\"] , axis = 1)\n",
        "normal.shape"
      ]
    },
    {
      "cell_type": "code",
      "execution_count": 5,
      "metadata": {
        "id": "fFuLm1GH1G2n"
      },
      "outputs": [],
      "source": [
        "# Transform all columns into float64\n",
        "normal = normal.astype(float)"
      ]
    },
    {
      "cell_type": "markdown",
      "metadata": {
        "id": "zxFNH5kU9hIE"
      },
      "source": [
        "#### Normalization"
      ]
    },
    {
      "cell_type": "code",
      "execution_count": 6,
      "metadata": {
        "id": "Mfxj4Uxn9kv4"
      },
      "outputs": [],
      "source": [
        "from sklearn import preprocessing\n",
        "min_max_scaler = preprocessing.MinMaxScaler()\n",
        "\n",
        "x = normal.values\n",
        "x_scaled = min_max_scaler.fit_transform(x)\n",
        "normal = pd.DataFrame(x_scaled)"
      ]
    },
    {
      "cell_type": "code",
      "execution_count": 7,
      "metadata": {
        "id": "mQ6_U4jn9nlw",
        "colab": {
          "base_uri": "https://localhost:8080/",
          "height": 112
        },
        "outputId": "6ae36e6d-b5ce-418e-a384-8d7facec85fd"
      },
      "outputs": [
        {
          "output_type": "execute_result",
          "data": {
            "text/plain": [
              "          0         1         2         3         4         5         6  \\\n",
              "0  0.371064  0.323768  0.084841  0.200586  0.529127  0.310969  0.386448   \n",
              "1  0.371064  0.315808  0.100613  0.200586  0.484639  0.310969  0.386448   \n",
              "\n",
              "          7         8         9  \n",
              "0  0.560211  0.430091  0.146702  \n",
              "1  0.560211  0.369480  0.146702  "
            ],
            "text/html": [
              "\n",
              "  <div id=\"df-bbce8925-fe46-4626-83e6-e7590bb3e30e\" class=\"colab-df-container\">\n",
              "    <div>\n",
              "<style scoped>\n",
              "    .dataframe tbody tr th:only-of-type {\n",
              "        vertical-align: middle;\n",
              "    }\n",
              "\n",
              "    .dataframe tbody tr th {\n",
              "        vertical-align: top;\n",
              "    }\n",
              "\n",
              "    .dataframe thead th {\n",
              "        text-align: right;\n",
              "    }\n",
              "</style>\n",
              "<table border=\"1\" class=\"dataframe\">\n",
              "  <thead>\n",
              "    <tr style=\"text-align: right;\">\n",
              "      <th></th>\n",
              "      <th>0</th>\n",
              "      <th>1</th>\n",
              "      <th>2</th>\n",
              "      <th>3</th>\n",
              "      <th>4</th>\n",
              "      <th>5</th>\n",
              "      <th>6</th>\n",
              "      <th>7</th>\n",
              "      <th>8</th>\n",
              "      <th>9</th>\n",
              "    </tr>\n",
              "  </thead>\n",
              "  <tbody>\n",
              "    <tr>\n",
              "      <th>0</th>\n",
              "      <td>0.371064</td>\n",
              "      <td>0.323768</td>\n",
              "      <td>0.084841</td>\n",
              "      <td>0.200586</td>\n",
              "      <td>0.529127</td>\n",
              "      <td>0.310969</td>\n",
              "      <td>0.386448</td>\n",
              "      <td>0.560211</td>\n",
              "      <td>0.430091</td>\n",
              "      <td>0.146702</td>\n",
              "    </tr>\n",
              "    <tr>\n",
              "      <th>1</th>\n",
              "      <td>0.371064</td>\n",
              "      <td>0.315808</td>\n",
              "      <td>0.100613</td>\n",
              "      <td>0.200586</td>\n",
              "      <td>0.484639</td>\n",
              "      <td>0.310969</td>\n",
              "      <td>0.386448</td>\n",
              "      <td>0.560211</td>\n",
              "      <td>0.369480</td>\n",
              "      <td>0.146702</td>\n",
              "    </tr>\n",
              "  </tbody>\n",
              "</table>\n",
              "</div>\n",
              "    <div class=\"colab-df-buttons\">\n",
              "\n",
              "  <div class=\"colab-df-container\">\n",
              "    <button class=\"colab-df-convert\" onclick=\"convertToInteractive('df-bbce8925-fe46-4626-83e6-e7590bb3e30e')\"\n",
              "            title=\"Convert this dataframe to an interactive table.\"\n",
              "            style=\"display:none;\">\n",
              "\n",
              "  <svg xmlns=\"http://www.w3.org/2000/svg\" height=\"24px\" viewBox=\"0 -960 960 960\">\n",
              "    <path d=\"M120-120v-720h720v720H120Zm60-500h600v-160H180v160Zm220 220h160v-160H400v160Zm0 220h160v-160H400v160ZM180-400h160v-160H180v160Zm440 0h160v-160H620v160ZM180-180h160v-160H180v160Zm440 0h160v-160H620v160Z\"/>\n",
              "  </svg>\n",
              "    </button>\n",
              "\n",
              "  <style>\n",
              "    .colab-df-container {\n",
              "      display:flex;\n",
              "      gap: 12px;\n",
              "    }\n",
              "\n",
              "    .colab-df-convert {\n",
              "      background-color: #E8F0FE;\n",
              "      border: none;\n",
              "      border-radius: 50%;\n",
              "      cursor: pointer;\n",
              "      display: none;\n",
              "      fill: #1967D2;\n",
              "      height: 32px;\n",
              "      padding: 0 0 0 0;\n",
              "      width: 32px;\n",
              "    }\n",
              "\n",
              "    .colab-df-convert:hover {\n",
              "      background-color: #E2EBFA;\n",
              "      box-shadow: 0px 1px 2px rgba(60, 64, 67, 0.3), 0px 1px 3px 1px rgba(60, 64, 67, 0.15);\n",
              "      fill: #174EA6;\n",
              "    }\n",
              "\n",
              "    .colab-df-buttons div {\n",
              "      margin-bottom: 4px;\n",
              "    }\n",
              "\n",
              "    [theme=dark] .colab-df-convert {\n",
              "      background-color: #3B4455;\n",
              "      fill: #D2E3FC;\n",
              "    }\n",
              "\n",
              "    [theme=dark] .colab-df-convert:hover {\n",
              "      background-color: #434B5C;\n",
              "      box-shadow: 0px 1px 3px 1px rgba(0, 0, 0, 0.15);\n",
              "      filter: drop-shadow(0px 1px 2px rgba(0, 0, 0, 0.3));\n",
              "      fill: #FFFFFF;\n",
              "    }\n",
              "  </style>\n",
              "\n",
              "    <script>\n",
              "      const buttonEl =\n",
              "        document.querySelector('#df-bbce8925-fe46-4626-83e6-e7590bb3e30e button.colab-df-convert');\n",
              "      buttonEl.style.display =\n",
              "        google.colab.kernel.accessAllowed ? 'block' : 'none';\n",
              "\n",
              "      async function convertToInteractive(key) {\n",
              "        const element = document.querySelector('#df-bbce8925-fe46-4626-83e6-e7590bb3e30e');\n",
              "        const dataTable =\n",
              "          await google.colab.kernel.invokeFunction('convertToInteractive',\n",
              "                                                    [key], {});\n",
              "        if (!dataTable) return;\n",
              "\n",
              "        const docLinkHtml = 'Like what you see? Visit the ' +\n",
              "          '<a target=\"_blank\" href=https://colab.research.google.com/notebooks/data_table.ipynb>data table notebook</a>'\n",
              "          + ' to learn more about interactive tables.';\n",
              "        element.innerHTML = '';\n",
              "        dataTable['output_type'] = 'display_data';\n",
              "        await google.colab.output.renderOutput(dataTable, element);\n",
              "        const docLink = document.createElement('div');\n",
              "        docLink.innerHTML = docLinkHtml;\n",
              "        element.appendChild(docLink);\n",
              "      }\n",
              "    </script>\n",
              "  </div>\n",
              "\n",
              "\n",
              "<div id=\"df-91faffa6-f466-45e9-aebf-d1f9c8fec353\">\n",
              "  <button class=\"colab-df-quickchart\" onclick=\"quickchart('df-91faffa6-f466-45e9-aebf-d1f9c8fec353')\"\n",
              "            title=\"Suggest charts\"\n",
              "            style=\"display:none;\">\n",
              "\n",
              "<svg xmlns=\"http://www.w3.org/2000/svg\" height=\"24px\"viewBox=\"0 0 24 24\"\n",
              "     width=\"24px\">\n",
              "    <g>\n",
              "        <path d=\"M19 3H5c-1.1 0-2 .9-2 2v14c0 1.1.9 2 2 2h14c1.1 0 2-.9 2-2V5c0-1.1-.9-2-2-2zM9 17H7v-7h2v7zm4 0h-2V7h2v10zm4 0h-2v-4h2v4z\"/>\n",
              "    </g>\n",
              "</svg>\n",
              "  </button>\n",
              "\n",
              "<style>\n",
              "  .colab-df-quickchart {\n",
              "      --bg-color: #E8F0FE;\n",
              "      --fill-color: #1967D2;\n",
              "      --hover-bg-color: #E2EBFA;\n",
              "      --hover-fill-color: #174EA6;\n",
              "      --disabled-fill-color: #AAA;\n",
              "      --disabled-bg-color: #DDD;\n",
              "  }\n",
              "\n",
              "  [theme=dark] .colab-df-quickchart {\n",
              "      --bg-color: #3B4455;\n",
              "      --fill-color: #D2E3FC;\n",
              "      --hover-bg-color: #434B5C;\n",
              "      --hover-fill-color: #FFFFFF;\n",
              "      --disabled-bg-color: #3B4455;\n",
              "      --disabled-fill-color: #666;\n",
              "  }\n",
              "\n",
              "  .colab-df-quickchart {\n",
              "    background-color: var(--bg-color);\n",
              "    border: none;\n",
              "    border-radius: 50%;\n",
              "    cursor: pointer;\n",
              "    display: none;\n",
              "    fill: var(--fill-color);\n",
              "    height: 32px;\n",
              "    padding: 0;\n",
              "    width: 32px;\n",
              "  }\n",
              "\n",
              "  .colab-df-quickchart:hover {\n",
              "    background-color: var(--hover-bg-color);\n",
              "    box-shadow: 0 1px 2px rgba(60, 64, 67, 0.3), 0 1px 3px 1px rgba(60, 64, 67, 0.15);\n",
              "    fill: var(--button-hover-fill-color);\n",
              "  }\n",
              "\n",
              "  .colab-df-quickchart-complete:disabled,\n",
              "  .colab-df-quickchart-complete:disabled:hover {\n",
              "    background-color: var(--disabled-bg-color);\n",
              "    fill: var(--disabled-fill-color);\n",
              "    box-shadow: none;\n",
              "  }\n",
              "\n",
              "  .colab-df-spinner {\n",
              "    border: 2px solid var(--fill-color);\n",
              "    border-color: transparent;\n",
              "    border-bottom-color: var(--fill-color);\n",
              "    animation:\n",
              "      spin 1s steps(1) infinite;\n",
              "  }\n",
              "\n",
              "  @keyframes spin {\n",
              "    0% {\n",
              "      border-color: transparent;\n",
              "      border-bottom-color: var(--fill-color);\n",
              "      border-left-color: var(--fill-color);\n",
              "    }\n",
              "    20% {\n",
              "      border-color: transparent;\n",
              "      border-left-color: var(--fill-color);\n",
              "      border-top-color: var(--fill-color);\n",
              "    }\n",
              "    30% {\n",
              "      border-color: transparent;\n",
              "      border-left-color: var(--fill-color);\n",
              "      border-top-color: var(--fill-color);\n",
              "      border-right-color: var(--fill-color);\n",
              "    }\n",
              "    40% {\n",
              "      border-color: transparent;\n",
              "      border-right-color: var(--fill-color);\n",
              "      border-top-color: var(--fill-color);\n",
              "    }\n",
              "    60% {\n",
              "      border-color: transparent;\n",
              "      border-right-color: var(--fill-color);\n",
              "    }\n",
              "    80% {\n",
              "      border-color: transparent;\n",
              "      border-right-color: var(--fill-color);\n",
              "      border-bottom-color: var(--fill-color);\n",
              "    }\n",
              "    90% {\n",
              "      border-color: transparent;\n",
              "      border-bottom-color: var(--fill-color);\n",
              "    }\n",
              "  }\n",
              "</style>\n",
              "\n",
              "  <script>\n",
              "    async function quickchart(key) {\n",
              "      const quickchartButtonEl =\n",
              "        document.querySelector('#' + key + ' button');\n",
              "      quickchartButtonEl.disabled = true;  // To prevent multiple clicks.\n",
              "      quickchartButtonEl.classList.add('colab-df-spinner');\n",
              "      try {\n",
              "        const charts = await google.colab.kernel.invokeFunction(\n",
              "            'suggestCharts', [key], {});\n",
              "      } catch (error) {\n",
              "        console.error('Error during call to suggestCharts:', error);\n",
              "      }\n",
              "      quickchartButtonEl.classList.remove('colab-df-spinner');\n",
              "      quickchartButtonEl.classList.add('colab-df-quickchart-complete');\n",
              "    }\n",
              "    (() => {\n",
              "      let quickchartButtonEl =\n",
              "        document.querySelector('#df-91faffa6-f466-45e9-aebf-d1f9c8fec353 button');\n",
              "      quickchartButtonEl.style.display =\n",
              "        google.colab.kernel.accessAllowed ? 'block' : 'none';\n",
              "    })();\n",
              "  </script>\n",
              "</div>\n",
              "\n",
              "    </div>\n",
              "  </div>\n"
            ]
          },
          "metadata": {},
          "execution_count": 7
        }
      ],
      "source": [
        "normal.head(2)"
      ]
    },
    {
      "cell_type": "markdown",
      "metadata": {
        "id": "_i71RFAi9spa"
      },
      "source": [
        "### Attack"
      ]
    },
    {
      "cell_type": "code",
      "execution_count": 8,
      "metadata": {
        "id": "aN_TFp5x9uTE",
        "colab": {
          "base_uri": "https://localhost:8080/"
        },
        "outputId": "b2ca66d0-eb39-4abf-e807-c99b099ee933"
      },
      "outputs": [
        {
          "output_type": "execute_result",
          "data": {
            "text/plain": [
              "(5754, 10)"
            ]
          },
          "metadata": {},
          "execution_count": 8
        }
      ],
      "source": [
        "#Read data\n",
        "attack1 = pd.read_csv(\"input/CPU_Usage-OVERALL_ATTACK.csv\")#, nrows=1000)\n",
        "labels = [ float(label) for label in attack1[\"label\"].values]  # TypeError: only size-1 arrays can be converted to Python scalars\n",
        "attack1 = attack1.drop([\"timestamp\", \"label\"] , axis = 1)\n",
        "attack1.shape"
      ]
    },
    {
      "cell_type": "code",
      "execution_count": 9,
      "metadata": {
        "id": "qLCInT-I9_-D"
      },
      "outputs": [],
      "source": [
        "# Transform all columns into float64\n",
        "attack1 = attack1.astype(float)"
      ]
    },
    {
      "cell_type": "markdown",
      "metadata": {
        "id": "c4cB4v3N-Dhu"
      },
      "source": [
        "#### Normalization"
      ]
    },
    {
      "cell_type": "code",
      "execution_count": 10,
      "metadata": {
        "id": "jZrha9cO-BGK"
      },
      "outputs": [],
      "source": [
        "from sklearn import preprocessing\n",
        "\n",
        "x = attack1.values\n",
        "x_scaled = min_max_scaler.transform(x)\n",
        "attack1 = pd.DataFrame(x_scaled)"
      ]
    },
    {
      "cell_type": "code",
      "execution_count": 11,
      "metadata": {
        "id": "z9SwiPco-BUa",
        "colab": {
          "base_uri": "https://localhost:8080/",
          "height": 112
        },
        "outputId": "fb0ee8c6-4a59-433c-944e-a78eab2eebe3"
      },
      "outputs": [
        {
          "output_type": "execute_result",
          "data": {
            "text/plain": [
              "          0         1         2         3         4         5         6  \\\n",
              "0  0.119522  0.918958  0.005548  1.262749  0.016506  1.278997  0.017592   \n",
              "1  0.119522  1.239975  0.005548  1.262749  0.016506  1.278997  0.017592   \n",
              "\n",
              "          7         8        9  \n",
              "0  0.775037  0.100976  0.00545  \n",
              "1  0.775037  0.100976  0.00545  "
            ],
            "text/html": [
              "\n",
              "  <div id=\"df-4d306ee9-cda1-4d45-a545-bb66b34dace7\" class=\"colab-df-container\">\n",
              "    <div>\n",
              "<style scoped>\n",
              "    .dataframe tbody tr th:only-of-type {\n",
              "        vertical-align: middle;\n",
              "    }\n",
              "\n",
              "    .dataframe tbody tr th {\n",
              "        vertical-align: top;\n",
              "    }\n",
              "\n",
              "    .dataframe thead th {\n",
              "        text-align: right;\n",
              "    }\n",
              "</style>\n",
              "<table border=\"1\" class=\"dataframe\">\n",
              "  <thead>\n",
              "    <tr style=\"text-align: right;\">\n",
              "      <th></th>\n",
              "      <th>0</th>\n",
              "      <th>1</th>\n",
              "      <th>2</th>\n",
              "      <th>3</th>\n",
              "      <th>4</th>\n",
              "      <th>5</th>\n",
              "      <th>6</th>\n",
              "      <th>7</th>\n",
              "      <th>8</th>\n",
              "      <th>9</th>\n",
              "    </tr>\n",
              "  </thead>\n",
              "  <tbody>\n",
              "    <tr>\n",
              "      <th>0</th>\n",
              "      <td>0.119522</td>\n",
              "      <td>0.918958</td>\n",
              "      <td>0.005548</td>\n",
              "      <td>1.262749</td>\n",
              "      <td>0.016506</td>\n",
              "      <td>1.278997</td>\n",
              "      <td>0.017592</td>\n",
              "      <td>0.775037</td>\n",
              "      <td>0.100976</td>\n",
              "      <td>0.00545</td>\n",
              "    </tr>\n",
              "    <tr>\n",
              "      <th>1</th>\n",
              "      <td>0.119522</td>\n",
              "      <td>1.239975</td>\n",
              "      <td>0.005548</td>\n",
              "      <td>1.262749</td>\n",
              "      <td>0.016506</td>\n",
              "      <td>1.278997</td>\n",
              "      <td>0.017592</td>\n",
              "      <td>0.775037</td>\n",
              "      <td>0.100976</td>\n",
              "      <td>0.00545</td>\n",
              "    </tr>\n",
              "  </tbody>\n",
              "</table>\n",
              "</div>\n",
              "    <div class=\"colab-df-buttons\">\n",
              "\n",
              "  <div class=\"colab-df-container\">\n",
              "    <button class=\"colab-df-convert\" onclick=\"convertToInteractive('df-4d306ee9-cda1-4d45-a545-bb66b34dace7')\"\n",
              "            title=\"Convert this dataframe to an interactive table.\"\n",
              "            style=\"display:none;\">\n",
              "\n",
              "  <svg xmlns=\"http://www.w3.org/2000/svg\" height=\"24px\" viewBox=\"0 -960 960 960\">\n",
              "    <path d=\"M120-120v-720h720v720H120Zm60-500h600v-160H180v160Zm220 220h160v-160H400v160Zm0 220h160v-160H400v160ZM180-400h160v-160H180v160Zm440 0h160v-160H620v160ZM180-180h160v-160H180v160Zm440 0h160v-160H620v160Z\"/>\n",
              "  </svg>\n",
              "    </button>\n",
              "\n",
              "  <style>\n",
              "    .colab-df-container {\n",
              "      display:flex;\n",
              "      gap: 12px;\n",
              "    }\n",
              "\n",
              "    .colab-df-convert {\n",
              "      background-color: #E8F0FE;\n",
              "      border: none;\n",
              "      border-radius: 50%;\n",
              "      cursor: pointer;\n",
              "      display: none;\n",
              "      fill: #1967D2;\n",
              "      height: 32px;\n",
              "      padding: 0 0 0 0;\n",
              "      width: 32px;\n",
              "    }\n",
              "\n",
              "    .colab-df-convert:hover {\n",
              "      background-color: #E2EBFA;\n",
              "      box-shadow: 0px 1px 2px rgba(60, 64, 67, 0.3), 0px 1px 3px 1px rgba(60, 64, 67, 0.15);\n",
              "      fill: #174EA6;\n",
              "    }\n",
              "\n",
              "    .colab-df-buttons div {\n",
              "      margin-bottom: 4px;\n",
              "    }\n",
              "\n",
              "    [theme=dark] .colab-df-convert {\n",
              "      background-color: #3B4455;\n",
              "      fill: #D2E3FC;\n",
              "    }\n",
              "\n",
              "    [theme=dark] .colab-df-convert:hover {\n",
              "      background-color: #434B5C;\n",
              "      box-shadow: 0px 1px 3px 1px rgba(0, 0, 0, 0.15);\n",
              "      filter: drop-shadow(0px 1px 2px rgba(0, 0, 0, 0.3));\n",
              "      fill: #FFFFFF;\n",
              "    }\n",
              "  </style>\n",
              "\n",
              "    <script>\n",
              "      const buttonEl =\n",
              "        document.querySelector('#df-4d306ee9-cda1-4d45-a545-bb66b34dace7 button.colab-df-convert');\n",
              "      buttonEl.style.display =\n",
              "        google.colab.kernel.accessAllowed ? 'block' : 'none';\n",
              "\n",
              "      async function convertToInteractive(key) {\n",
              "        const element = document.querySelector('#df-4d306ee9-cda1-4d45-a545-bb66b34dace7');\n",
              "        const dataTable =\n",
              "          await google.colab.kernel.invokeFunction('convertToInteractive',\n",
              "                                                    [key], {});\n",
              "        if (!dataTable) return;\n",
              "\n",
              "        const docLinkHtml = 'Like what you see? Visit the ' +\n",
              "          '<a target=\"_blank\" href=https://colab.research.google.com/notebooks/data_table.ipynb>data table notebook</a>'\n",
              "          + ' to learn more about interactive tables.';\n",
              "        element.innerHTML = '';\n",
              "        dataTable['output_type'] = 'display_data';\n",
              "        await google.colab.output.renderOutput(dataTable, element);\n",
              "        const docLink = document.createElement('div');\n",
              "        docLink.innerHTML = docLinkHtml;\n",
              "        element.appendChild(docLink);\n",
              "      }\n",
              "    </script>\n",
              "  </div>\n",
              "\n",
              "\n",
              "<div id=\"df-fec89067-3d23-4e75-b877-6bfa2352692e\">\n",
              "  <button class=\"colab-df-quickchart\" onclick=\"quickchart('df-fec89067-3d23-4e75-b877-6bfa2352692e')\"\n",
              "            title=\"Suggest charts\"\n",
              "            style=\"display:none;\">\n",
              "\n",
              "<svg xmlns=\"http://www.w3.org/2000/svg\" height=\"24px\"viewBox=\"0 0 24 24\"\n",
              "     width=\"24px\">\n",
              "    <g>\n",
              "        <path d=\"M19 3H5c-1.1 0-2 .9-2 2v14c0 1.1.9 2 2 2h14c1.1 0 2-.9 2-2V5c0-1.1-.9-2-2-2zM9 17H7v-7h2v7zm4 0h-2V7h2v10zm4 0h-2v-4h2v4z\"/>\n",
              "    </g>\n",
              "</svg>\n",
              "  </button>\n",
              "\n",
              "<style>\n",
              "  .colab-df-quickchart {\n",
              "      --bg-color: #E8F0FE;\n",
              "      --fill-color: #1967D2;\n",
              "      --hover-bg-color: #E2EBFA;\n",
              "      --hover-fill-color: #174EA6;\n",
              "      --disabled-fill-color: #AAA;\n",
              "      --disabled-bg-color: #DDD;\n",
              "  }\n",
              "\n",
              "  [theme=dark] .colab-df-quickchart {\n",
              "      --bg-color: #3B4455;\n",
              "      --fill-color: #D2E3FC;\n",
              "      --hover-bg-color: #434B5C;\n",
              "      --hover-fill-color: #FFFFFF;\n",
              "      --disabled-bg-color: #3B4455;\n",
              "      --disabled-fill-color: #666;\n",
              "  }\n",
              "\n",
              "  .colab-df-quickchart {\n",
              "    background-color: var(--bg-color);\n",
              "    border: none;\n",
              "    border-radius: 50%;\n",
              "    cursor: pointer;\n",
              "    display: none;\n",
              "    fill: var(--fill-color);\n",
              "    height: 32px;\n",
              "    padding: 0;\n",
              "    width: 32px;\n",
              "  }\n",
              "\n",
              "  .colab-df-quickchart:hover {\n",
              "    background-color: var(--hover-bg-color);\n",
              "    box-shadow: 0 1px 2px rgba(60, 64, 67, 0.3), 0 1px 3px 1px rgba(60, 64, 67, 0.15);\n",
              "    fill: var(--button-hover-fill-color);\n",
              "  }\n",
              "\n",
              "  .colab-df-quickchart-complete:disabled,\n",
              "  .colab-df-quickchart-complete:disabled:hover {\n",
              "    background-color: var(--disabled-bg-color);\n",
              "    fill: var(--disabled-fill-color);\n",
              "    box-shadow: none;\n",
              "  }\n",
              "\n",
              "  .colab-df-spinner {\n",
              "    border: 2px solid var(--fill-color);\n",
              "    border-color: transparent;\n",
              "    border-bottom-color: var(--fill-color);\n",
              "    animation:\n",
              "      spin 1s steps(1) infinite;\n",
              "  }\n",
              "\n",
              "  @keyframes spin {\n",
              "    0% {\n",
              "      border-color: transparent;\n",
              "      border-bottom-color: var(--fill-color);\n",
              "      border-left-color: var(--fill-color);\n",
              "    }\n",
              "    20% {\n",
              "      border-color: transparent;\n",
              "      border-left-color: var(--fill-color);\n",
              "      border-top-color: var(--fill-color);\n",
              "    }\n",
              "    30% {\n",
              "      border-color: transparent;\n",
              "      border-left-color: var(--fill-color);\n",
              "      border-top-color: var(--fill-color);\n",
              "      border-right-color: var(--fill-color);\n",
              "    }\n",
              "    40% {\n",
              "      border-color: transparent;\n",
              "      border-right-color: var(--fill-color);\n",
              "      border-top-color: var(--fill-color);\n",
              "    }\n",
              "    60% {\n",
              "      border-color: transparent;\n",
              "      border-right-color: var(--fill-color);\n",
              "    }\n",
              "    80% {\n",
              "      border-color: transparent;\n",
              "      border-right-color: var(--fill-color);\n",
              "      border-bottom-color: var(--fill-color);\n",
              "    }\n",
              "    90% {\n",
              "      border-color: transparent;\n",
              "      border-bottom-color: var(--fill-color);\n",
              "    }\n",
              "  }\n",
              "</style>\n",
              "\n",
              "  <script>\n",
              "    async function quickchart(key) {\n",
              "      const quickchartButtonEl =\n",
              "        document.querySelector('#' + key + ' button');\n",
              "      quickchartButtonEl.disabled = true;  // To prevent multiple clicks.\n",
              "      quickchartButtonEl.classList.add('colab-df-spinner');\n",
              "      try {\n",
              "        const charts = await google.colab.kernel.invokeFunction(\n",
              "            'suggestCharts', [key], {});\n",
              "      } catch (error) {\n",
              "        console.error('Error during call to suggestCharts:', error);\n",
              "      }\n",
              "      quickchartButtonEl.classList.remove('colab-df-spinner');\n",
              "      quickchartButtonEl.classList.add('colab-df-quickchart-complete');\n",
              "    }\n",
              "    (() => {\n",
              "      let quickchartButtonEl =\n",
              "        document.querySelector('#df-fec89067-3d23-4e75-b877-6bfa2352692e button');\n",
              "      quickchartButtonEl.style.display =\n",
              "        google.colab.kernel.accessAllowed ? 'block' : 'none';\n",
              "    })();\n",
              "  </script>\n",
              "</div>\n",
              "\n",
              "    </div>\n",
              "  </div>\n"
            ]
          },
          "metadata": {},
          "execution_count": 11
        }
      ],
      "source": [
        "attack1.head(2)"
      ]
    },
    {
      "cell_type": "markdown",
      "metadata": {
        "id": "xXJi503b-j_d"
      },
      "source": [
        "### Windows"
      ]
    },
    {
      "cell_type": "code",
      "execution_count": 12,
      "metadata": {
        "id": "vyplttZa-BRN"
      },
      "outputs": [],
      "source": [
        "window_size=12"
      ]
    },
    {
      "cell_type": "code",
      "execution_count": 13,
      "metadata": {
        "id": "dzGJMp6Y-BN5",
        "colab": {
          "base_uri": "https://localhost:8080/"
        },
        "outputId": "c74bb73c-d057-4644-a423-109f5d6e4e9e"
      },
      "outputs": [
        {
          "output_type": "execute_result",
          "data": {
            "text/plain": [
              "(52548, 12, 10)"
            ]
          },
          "metadata": {},
          "execution_count": 13
        }
      ],
      "source": [
        "windows_normal=normal.values[np.arange(window_size)[None, :] + np.arange(normal.shape[0]-window_size)[:, None]]\n",
        "windows_normal.shape"
      ]
    },
    {
      "cell_type": "code",
      "execution_count": 14,
      "metadata": {
        "id": "17LdB3c8-pRH",
        "colab": {
          "base_uri": "https://localhost:8080/"
        },
        "outputId": "aff7a78b-7300-4298-bd34-03b15fd8184a"
      },
      "outputs": [
        {
          "output_type": "execute_result",
          "data": {
            "text/plain": [
              "(5742, 12, 10)"
            ]
          },
          "metadata": {},
          "execution_count": 14
        }
      ],
      "source": [
        "windows_attack1=attack1.values[np.arange(window_size)[None, :] + np.arange(attack1.shape[0]-window_size)[:, None]]\n",
        "windows_attack1.shape"
      ]
    },
    {
      "cell_type": "markdown",
      "metadata": {
        "id": "k70ZFxGs-_7m"
      },
      "source": [
        "## Training"
      ]
    },
    {
      "cell_type": "code",
      "execution_count": 15,
      "metadata": {
        "id": "yi9S0SGnDKNc"
      },
      "outputs": [],
      "source": [
        "import torch.utils.data as data_utils\n",
        "\n",
        "BATCH_SIZE =  792\n",
        "N_EPOCHS = 100\n",
        "hidden_size = 100\n",
        "\n",
        "w_size=windows_normal.shape[1]*windows_normal.shape[2]\n",
        "z_size=windows_normal.shape[1]*hidden_size\n",
        "\n",
        "windows_normal_train = windows_normal[:int(np.floor(.8 *  windows_normal.shape[0]))]\n",
        "windows_normal_val = windows_normal[int(np.floor(.8 *  windows_normal.shape[0])):int(np.floor(windows_normal.shape[0]))]\n",
        "\n",
        "train_loader = torch.utils.data.DataLoader(data_utils.TensorDataset(\n",
        "    torch.from_numpy(windows_normal_train).float().view(([windows_normal_train.shape[0],w_size]))\n",
        ") , batch_size=BATCH_SIZE, shuffle=False, num_workers=0)\n",
        "\n",
        "val_loader = torch.utils.data.DataLoader(data_utils.TensorDataset(\n",
        "    torch.from_numpy(windows_normal_val).float().view(([windows_normal_val.shape[0],w_size]))\n",
        ") , batch_size=BATCH_SIZE, shuffle=False, num_workers=0)\n",
        "\n",
        "test_loader = torch.utils.data.DataLoader(data_utils.TensorDataset(\n",
        "    torch.from_numpy(windows_attack1).float().view(([windows_attack1.shape[0],w_size]))\n",
        ") , batch_size=BATCH_SIZE, shuffle=False, num_workers=0)\n",
        "\n",
        "model = UsadModel(w_size, z_size)\n",
        "model = to_device(model,device)"
      ]
    },
    {
      "cell_type": "code",
      "execution_count": 16,
      "metadata": {
        "id": "So9yjDPEDObC",
        "scrolled": true,
        "colab": {
          "base_uri": "https://localhost:8080/"
        },
        "outputId": "1f35f1fa-f20d-480c-8ae7-9abf138f9ea3"
      },
      "outputs": [
        {
          "output_type": "stream",
          "name": "stdout",
          "text": [
            "Epoch [0], val_loss1: 0.0187, val_loss2: 0.0185\n",
            "Epoch [1], val_loss1: 0.0187, val_loss2: 0.0001\n",
            "Epoch [2], val_loss1: 0.0184, val_loss2: -0.0061\n",
            "Epoch [3], val_loss1: 0.0186, val_loss2: -0.0093\n",
            "Epoch [4], val_loss1: 0.0187, val_loss2: -0.0112\n",
            "Epoch [5], val_loss1: 0.0186, val_loss2: -0.0124\n",
            "Epoch [6], val_loss1: 0.0186, val_loss2: -0.0133\n",
            "Epoch [7], val_loss1: 0.0186, val_loss2: -0.0140\n",
            "Epoch [8], val_loss1: 0.0187, val_loss2: -0.0145\n",
            "Epoch [9], val_loss1: 0.0187, val_loss2: -0.0150\n",
            "Epoch [10], val_loss1: 0.0187, val_loss2: -0.0153\n",
            "Epoch [11], val_loss1: 0.0191, val_loss2: -0.0159\n",
            "Epoch [12], val_loss1: 0.0187, val_loss2: -0.0158\n",
            "Epoch [13], val_loss1: 0.0185, val_loss2: -0.0158\n",
            "Epoch [14], val_loss1: 0.0187, val_loss2: -0.0162\n",
            "Epoch [15], val_loss1: 0.0186, val_loss2: -0.0163\n",
            "Epoch [16], val_loss1: 0.0188, val_loss2: -0.0165\n",
            "Epoch [17], val_loss1: 0.0187, val_loss2: -0.0166\n",
            "Epoch [18], val_loss1: 0.0188, val_loss2: -0.0168\n",
            "Epoch [19], val_loss1: 0.0188, val_loss2: -0.0169\n",
            "Epoch [20], val_loss1: 0.0188, val_loss2: -0.0170\n",
            "Epoch [21], val_loss1: 0.0188, val_loss2: -0.0171\n",
            "Epoch [22], val_loss1: 0.0188, val_loss2: -0.0172\n",
            "Epoch [23], val_loss1: 0.0188, val_loss2: -0.0173\n",
            "Epoch [24], val_loss1: 0.0188, val_loss2: -0.0173\n",
            "Epoch [25], val_loss1: 0.0188, val_loss2: -0.0174\n",
            "Epoch [26], val_loss1: 0.0187, val_loss2: -0.0174\n",
            "Epoch [27], val_loss1: 0.0188, val_loss2: -0.0175\n",
            "Epoch [28], val_loss1: 0.0188, val_loss2: -0.0175\n",
            "Epoch [29], val_loss1: 0.0188, val_loss2: -0.0176\n",
            "Epoch [30], val_loss1: 0.0188, val_loss2: -0.0176\n",
            "Epoch [31], val_loss1: 0.0188, val_loss2: -0.0177\n",
            "Epoch [32], val_loss1: 0.0188, val_loss2: -0.0177\n",
            "Epoch [33], val_loss1: 0.0188, val_loss2: -0.0177\n",
            "Epoch [34], val_loss1: 0.0188, val_loss2: -0.0177\n",
            "Epoch [35], val_loss1: 0.0188, val_loss2: -0.0177\n",
            "Epoch [36], val_loss1: 0.0188, val_loss2: -0.0178\n",
            "Epoch [37], val_loss1: 0.0187, val_loss2: -0.0178\n",
            "Epoch [38], val_loss1: 0.0187, val_loss2: -0.0178\n",
            "Epoch [39], val_loss1: 0.0187, val_loss2: -0.0178\n",
            "Epoch [40], val_loss1: 0.0187, val_loss2: -0.0178\n",
            "Epoch [41], val_loss1: 0.0188, val_loss2: -0.0179\n",
            "Epoch [42], val_loss1: 0.0188, val_loss2: -0.0179\n",
            "Epoch [43], val_loss1: 0.0187, val_loss2: -0.0179\n",
            "Epoch [44], val_loss1: 0.0187, val_loss2: -0.0179\n",
            "Epoch [45], val_loss1: 0.0187, val_loss2: -0.0179\n",
            "Epoch [46], val_loss1: 0.0187, val_loss2: -0.0180\n",
            "Epoch [47], val_loss1: 0.0187, val_loss2: -0.0180\n",
            "Epoch [48], val_loss1: 0.0187, val_loss2: -0.0179\n",
            "Epoch [49], val_loss1: 0.0186, val_loss2: -0.0179\n",
            "Epoch [50], val_loss1: 0.0187, val_loss2: -0.0180\n",
            "Epoch [51], val_loss1: 0.0186, val_loss2: -0.0180\n",
            "Epoch [52], val_loss1: 0.0186, val_loss2: -0.0180\n",
            "Epoch [53], val_loss1: 0.0187, val_loss2: -0.0180\n",
            "Epoch [54], val_loss1: 0.0187, val_loss2: -0.0181\n",
            "Epoch [55], val_loss1: 0.0187, val_loss2: -0.0181\n",
            "Epoch [56], val_loss1: 0.0187, val_loss2: -0.0181\n",
            "Epoch [57], val_loss1: 0.0187, val_loss2: -0.0181\n",
            "Epoch [58], val_loss1: 0.0187, val_loss2: -0.0181\n",
            "Epoch [59], val_loss1: 0.0187, val_loss2: -0.0181\n",
            "Epoch [60], val_loss1: 0.0187, val_loss2: -0.0181\n",
            "Epoch [61], val_loss1: 0.0188, val_loss2: -0.0182\n",
            "Epoch [62], val_loss1: 0.0187, val_loss2: -0.0181\n",
            "Epoch [63], val_loss1: 0.0187, val_loss2: -0.0182\n",
            "Epoch [64], val_loss1: 0.0187, val_loss2: -0.0182\n",
            "Epoch [65], val_loss1: 0.0188, val_loss2: -0.0182\n",
            "Epoch [66], val_loss1: 0.0188, val_loss2: -0.0182\n",
            "Epoch [67], val_loss1: 0.0187, val_loss2: -0.0182\n",
            "Epoch [68], val_loss1: 0.0188, val_loss2: -0.0182\n",
            "Epoch [69], val_loss1: 0.0188, val_loss2: -0.0182\n",
            "Epoch [70], val_loss1: 0.0188, val_loss2: -0.0183\n",
            "Epoch [71], val_loss1: 0.0187, val_loss2: -0.0182\n",
            "Epoch [72], val_loss1: 0.0188, val_loss2: -0.0183\n",
            "Epoch [73], val_loss1: 0.0188, val_loss2: -0.0183\n",
            "Epoch [74], val_loss1: 0.0188, val_loss2: -0.0183\n",
            "Epoch [75], val_loss1: 0.0188, val_loss2: -0.0183\n",
            "Epoch [76], val_loss1: 0.0188, val_loss2: -0.0183\n",
            "Epoch [77], val_loss1: 0.0188, val_loss2: -0.0183\n",
            "Epoch [78], val_loss1: 0.0188, val_loss2: -0.0183\n",
            "Epoch [79], val_loss1: 0.0188, val_loss2: -0.0183\n",
            "Epoch [80], val_loss1: 0.0188, val_loss2: -0.0184\n",
            "Epoch [81], val_loss1: 0.0188, val_loss2: -0.0184\n",
            "Epoch [82], val_loss1: 0.0188, val_loss2: -0.0184\n",
            "Epoch [83], val_loss1: 0.0188, val_loss2: -0.0184\n",
            "Epoch [84], val_loss1: 0.0188, val_loss2: -0.0184\n",
            "Epoch [85], val_loss1: 0.0188, val_loss2: -0.0184\n",
            "Epoch [86], val_loss1: 0.0188, val_loss2: -0.0184\n",
            "Epoch [87], val_loss1: 0.0189, val_loss2: -0.0184\n",
            "Epoch [88], val_loss1: 0.0189, val_loss2: -0.0185\n",
            "Epoch [89], val_loss1: 0.0189, val_loss2: -0.0185\n",
            "Epoch [90], val_loss1: 0.0189, val_loss2: -0.0185\n",
            "Epoch [91], val_loss1: 0.0189, val_loss2: -0.0185\n",
            "Epoch [92], val_loss1: 0.0189, val_loss2: -0.0185\n",
            "Epoch [93], val_loss1: 0.0189, val_loss2: -0.0186\n",
            "Epoch [94], val_loss1: 0.0190, val_loss2: -0.0186\n",
            "Epoch [95], val_loss1: 0.0189, val_loss2: -0.0186\n",
            "Epoch [96], val_loss1: 0.0190, val_loss2: -0.0186\n",
            "Epoch [97], val_loss1: 0.0190, val_loss2: -0.0186\n",
            "Epoch [98], val_loss1: 0.0190, val_loss2: -0.0187\n",
            "Epoch [99], val_loss1: 0.0190, val_loss2: -0.0187\n"
          ]
        }
      ],
      "source": [
        "history = training(N_EPOCHS,model,train_loader,val_loader)"
      ]
    },
    {
      "cell_type": "code",
      "execution_count": 17,
      "metadata": {
        "id": "fYwlN0JKVVtN",
        "colab": {
          "base_uri": "https://localhost:8080/",
          "height": 472
        },
        "outputId": "b0180095-ecba-4e7c-a9b9-e5ff3ed0ac1a"
      },
      "outputs": [
        {
          "output_type": "display_data",
          "data": {
            "text/plain": [
              "<Figure size 640x480 with 1 Axes>"
            ],
            "image/png": "[encoded data removed]"
          },
          "metadata": {}
        }
      ],
      "source": [
        "plot_history(history)"
      ]
    },
    {
      "cell_type": "code",
      "execution_count": 18,
      "metadata": {
        "id": "ieObNqKYsOzh"
      },
      "outputs": [],
      "source": [
        "torch.save({\n",
        "            'encoder': model.encoder.state_dict(),\n",
        "            'decoder1': model.decoder1.state_dict(),\n",
        "            'decoder2': model.decoder2.state_dict()\n",
        "            }, \"model.pth\")"
      ]
    },
    {
      "cell_type": "markdown",
      "metadata": {
        "id": "ymhjbmvR_DgJ"
      },
      "source": [
        "## Testing"
      ]
    },
    {
      "cell_type": "code",
      "execution_count": 19,
      "metadata": {
        "id": "b7rbm9wdXKeF",
        "colab": {
          "base_uri": "https://localhost:8080/"
        },
        "outputId": "a19bdc91-fef5-4fde-a82b-989f40228a3a"
      },
      "outputs": [
        {
          "output_type": "execute_result",
          "data": {
            "text/plain": [
              "<All keys matched successfully>"
            ]
          },
          "metadata": {},
          "execution_count": 19
        }
      ],
      "source": [
        "checkpoint = torch.load(\"model.pth\")\n",
        "\n",
        "model.encoder.load_state_dict(checkpoint['encoder'])\n",
        "model.decoder1.load_state_dict(checkpoint['decoder1'])\n",
        "model.decoder2.load_state_dict(checkpoint['decoder2'])"
      ]
    },
    {
      "cell_type": "code",
      "execution_count": 20,
      "metadata": {
        "id": "Ry1QTp6V2ny4"
      },
      "outputs": [],
      "source": [
        "results=testing(model,test_loader)"
      ]
    },
    {
      "cell_type": "code",
      "execution_count": 21,
      "metadata": {
        "id": "_s12U-Q4ACjI"
      },
      "outputs": [],
      "source": [
        "windows_labels=[]\n",
        "for i in range(len(labels)-window_size):\n",
        "    windows_labels.append(list(np.int_(labels[i:i+window_size])))"
      ]
    },
    {
      "cell_type": "code",
      "execution_count": 22,
      "metadata": {
        "id": "MYIlJ5cPACjI"
      },
      "outputs": [],
      "source": [
        "y_test = [1.0 if (np.sum(window) > 0) else 0 for window in windows_labels ]"
      ]
    },
    {
      "cell_type": "code",
      "execution_count": 23,
      "metadata": {
        "id": "FSWwxheNvxR7"
      },
      "outputs": [],
      "source": [
        "y_pred=np.concatenate([torch.stack(results[:-1]).flatten().detach().cpu().numpy(),\n",
        "                              results[-1].flatten().detach().cpu().numpy()])"
      ]
    },
    {
      "cell_type": "code",
      "execution_count": 24,
      "metadata": {
        "id": "bROUyLM93cG3",
        "colab": {
          "base_uri": "https://localhost:8080/",
          "height": 449
        },
        "outputId": "2cd68e4e-a03b-430f-9d4e-4e4869d176dd"
      },
      "outputs": [
        {
          "output_type": "display_data",
          "data": {
            "text/plain": [
              "<Figure size 640x480 with 1 Axes>"
            ],
            "image/png": "[encoded data removed]"
          },
          "metadata": {}
        }
      ],
      "source": [
        "threshold=ROC(y_test,y_pred)"
      ]
    },
    {
      "cell_type": "code",
      "execution_count": 24,
      "metadata": {
        "id": "OqEkR7LVACjI"
      },
      "outputs": [],
      "source": []
    }
  ],
  "metadata": {
    "accelerator": "GPU",
    "colab": {
      "gpuType": "V100",
      "machine_shape": "hm",
      "provenance": []
    },
    "kernelspec": {
      "display_name": "Python 3",
      "name": "python3"
    },
    "language_info": {
      "codemirror_mode": {
        "name": "ipython",
        "version": 3
      },
      "file_extension": ".py",
      "mimetype": "text/x-python",
      "name": "python",
      "nbconvert_exporter": "python",
      "pygments_lexer": "ipython3",
      "version": "3.6.8"
    }
  },
  "nbformat": 4,
  "nbformat_minor": 0
}